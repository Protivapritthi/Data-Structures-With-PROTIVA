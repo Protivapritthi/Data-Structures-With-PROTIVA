{
  "nbformat": 4,
  "nbformat_minor": 0,
  "metadata": {
    "colab": {
      "provenance": []
    },
    "kernelspec": {
      "name": "python3",
      "display_name": "Python 3"
    },
    "language_info": {
      "name": "python"
    }
  },
  "cells": [
    {
      "cell_type": "code",
      "execution_count": 1,
      "metadata": {
        "colab": {
          "base_uri": "https://localhost:8080/"
        },
        "id": "GKZ0ycVa8X7o",
        "outputId": "da05f757-8867-46a9-a095-cff058ec87fd"
      },
      "outputs": [
        {
          "output_type": "stream",
          "name": "stdout",
          "text": [
            "Added 5 units of water\n",
            "Making coffee...\n"
          ]
        }
      ],
      "source": [
        "class CoffeeMachine:\n",
        "    def __init__(self):\n",
        "        self._water_level = 0  # This is intended to be a private attribute\n",
        "\n",
        "    def add_water(self, amount):\n",
        "        if amount > 0:\n",
        "            self._water_level += amount\n",
        "            print(f\"Added {amount} units of water\")\n",
        "        else:\n",
        "            print(\"Cannot add negative water\")\n",
        "\n",
        "    def make_coffee(self):\n",
        "        if self._water_level > 0:\n",
        "            self._water_level -= 1  # Use some water\n",
        "            print(\"Making coffee...\")\n",
        "        else:\n",
        "            print(\"Please add water first!\")\n",
        "\n",
        "# Using the class\n",
        "my_coffee_machine = CoffeeMachine()\n",
        "my_coffee_machine.add_water(5)\n",
        "my_coffee_machine.make_coffee()\n"
      ]
    },
    {
      "cell_type": "code",
      "source": [
        "base_salary = 30_000\n",
        "overtime = 10\n",
        "rate = 20\n",
        "\n",
        "def get_wage(base_salary, overtime, rate):\n",
        "    return base_salary + (overtime * rate)\n",
        "\n",
        "# Call the function and print the result\n",
        "print(get_wage(base_salary, overtime, rate))\n",
        "\n",
        "\n",
        "\n",
        "class Employee:\n",
        "    def __init__(self, base_salary, overtime, rate):\n",
        "        self.base_salary = base_salary\n",
        "        self.overtime = overtime\n",
        "        self.rate = rate\n",
        "\n",
        "    def get_wage(self):\n",
        "        return self.base_salary + (self.overtime * self.rate)\n",
        "\n",
        "# Create an instance of Employee\n",
        "employee = Employee(30_000, 10, 20)\n",
        "\n",
        "# Call the method and print the result\n",
        "print(employee.get_wage())\n"
      ],
      "metadata": {
        "colab": {
          "base_uri": "https://localhost:8080/"
        },
        "id": "EpBbeIJZ8sRN",
        "outputId": "83ed00b6-eb94-4196-cb94-6e77cc372f96"
      },
      "execution_count": 2,
      "outputs": [
        {
          "output_type": "stream",
          "name": "stdout",
          "text": [
            "30200\n",
            "30200\n"
          ]
        }
      ]
    },
    {
      "cell_type": "code",
      "source": [
        "#wrong way\n",
        "base_salary = 30000\n",
        "overtime = 10\n",
        "rate = 20\n",
        "\n",
        "def get_wage(base_salary, overtime, rate):\n",
        "  return base_salary + (overtime * rate)\n",
        "\n",
        "print(get_wage(base_salary, overtime, rate))\n",
        "\n"
      ],
      "metadata": {
        "colab": {
          "base_uri": "https://localhost:8080/"
        },
        "id": "1jpcz0BJ9wyA",
        "outputId": "85d2b095-590d-4e76-92c1-a737f7a71083"
      },
      "execution_count": 6,
      "outputs": [
        {
          "output_type": "stream",
          "name": "stdout",
          "text": [
            "30200\n"
          ]
        }
      ]
    },
    {
      "cell_type": "code",
      "source": [
        "class Student:\n",
        "   def __init__(self, name=\"Rajaram\", marks=50):\n",
        "      self.name = name\n",
        "      self.marks = marks\n",
        "\n",
        "s1 = Student()\n",
        "s2 = Student(\"Bharat\", 25)\n",
        "\n",
        "print (\"Name: {} marks: {}\".format(s1.name, s2.marks))\n",
        "print (\"Name: {} marks: {}\".format(s2.name, s2.marks))"
      ],
      "metadata": {
        "colab": {
          "base_uri": "https://localhost:8080/"
        },
        "id": "mn75dq1eAtrk",
        "outputId": "96db93e9-968e-4d33-983f-4d86256118b5"
      },
      "execution_count": 7,
      "outputs": [
        {
          "output_type": "stream",
          "name": "stdout",
          "text": [
            "Name: Rajaram marks: 25\n",
            "Name: Bharat marks: 25\n"
          ]
        }
      ]
    },
    {
      "cell_type": "code",
      "source": [],
      "metadata": {
        "id": "FrOIZ2q_BP5t"
      },
      "execution_count": 8,
      "outputs": []
    },
    {
      "cell_type": "code",
      "source": [],
      "metadata": {
        "id": "MVAs3akcAuGr"
      },
      "execution_count": null,
      "outputs": []
    }
  ]
}