{
  "nbformat": 4,
  "nbformat_minor": 0,
  "metadata": {
    "colab": {
      "provenance": []
    },
    "kernelspec": {
      "name": "python3",
      "display_name": "Python 3"
    },
    "language_info": {
      "name": "python"
    }
  },
  "cells": [
    {
      "cell_type": "markdown",
      "source": [
        "Problem 1: Write a program that takes two numbers as input and prints their sum."
      ],
      "metadata": {
        "id": "ycZBLi8ZWSBK"
      }
    },
    {
      "cell_type": "code",
      "source": [
        "num1 = int(input(\"Enter first Num:\"))\n",
        "num2 = int(input(\"Enter second Num:\"))\n",
        "sum = num1+ num2\n",
        "\n",
        "print (sum)\n"
      ],
      "metadata": {
        "colab": {
          "base_uri": "https://localhost:8080/"
        },
        "id": "_buR71giWUAu",
        "outputId": "da03fe8f-84c7-40d5-c828-193cc2db5c58"
      },
      "execution_count": null,
      "outputs": [
        {
          "output_type": "stream",
          "name": "stdout",
          "text": [
            "Enter first Num:5\n",
            "Enter second Num:2\n",
            "7\n"
          ]
        }
      ]
    },
    {
      "cell_type": "markdown",
      "source": [
        "Problem 2: Write a program that converts Celsius to Fahrenheit. The formula is Fahrenheit = (Celsius * 9/5) + 32."
      ],
      "metadata": {
        "id": "AzAurIrNWx7x"
      }
    },
    {
      "cell_type": "code",
      "source": [
        "c = float(input(\"Give  Celsiust Value: \"))\n",
        "f = (c * 9/5) + 32\n",
        "\n",
        "print(f)"
      ],
      "metadata": {
        "colab": {
          "base_uri": "https://localhost:8080/"
        },
        "id": "-xJLnAbjW3Rq",
        "outputId": "07baa73a-e185-4d40-a564-9ef661e3d85c"
      },
      "execution_count": null,
      "outputs": [
        {
          "output_type": "stream",
          "name": "stdout",
          "text": [
            "Give  Celsiust Value: 100\n",
            "212.0\n"
          ]
        }
      ]
    },
    {
      "cell_type": "markdown",
      "source": [
        "Problem 3: Write a program that takes a user's name and age, and then prints a message telling them the year in which they will turn 100 years old."
      ],
      "metadata": {
        "id": "idlleQQBXjcy"
      }
    },
    {
      "cell_type": "code",
      "source": [
        "age = int(input(\"Your Birth Year ?\"))\n",
        "\n",
        "a = age+100\n",
        "\n",
        "print(\"You will be 100 years old in -\", a)"
      ],
      "metadata": {
        "colab": {
          "base_uri": "https://localhost:8080/"
        },
        "id": "uJ6QcxMLXkM9",
        "outputId": "e5fa4d66-9bb7-4a94-f9ef-9b11aab8d0f0"
      },
      "execution_count": null,
      "outputs": [
        {
          "output_type": "stream",
          "name": "stdout",
          "text": [
            "Your Birth Year ?1998\n",
            "You will be 100 years old in - 2098\n"
          ]
        }
      ]
    },
    {
      "cell_type": "markdown",
      "source": [
        "Problem 4: Write a program that asks the user for a string and prints whether this string is a palindrome or not. (A palindrome is a string that reads the same forwards and backwards.)"
      ],
      "metadata": {
        "id": "_lFke8GLeMJ4"
      }
    },
    {
      "cell_type": "code",
      "source": [
        "def is_pal(s):\n",
        "  reversed_s = \"\"\n",
        "  for i in range (len(s)  -1, -1, -1):\n",
        "    reversed_s += s[i]\n",
        "  if s == reversed_s:\n",
        "    return True\n",
        "  else:\n",
        "    return False\n",
        "\n",
        "string = input(\"Give the string:  \")\n",
        "if is_pal(string):\n",
        "    print(\"This string is a palindrome.\")\n",
        "else:\n",
        "    print(\"This string is not a palindrome.\")"
      ],
      "metadata": {
        "colab": {
          "base_uri": "https://localhost:8080/"
        },
        "id": "QmqHRke6eM8V",
        "outputId": "f02be6bf-9838-4c3e-dcd7-4365c5e7e82b"
      },
      "execution_count": null,
      "outputs": [
        {
          "output_type": "stream",
          "name": "stdout",
          "text": [
            "Give the string:  solos\n",
            "This string is a palindrome.\n"
          ]
        }
      ]
    },
    {
      "cell_type": "markdown",
      "source": [
        "Problem 5: Write a program that prints the first n Fibonacci numbers. The Fibonacci sequence is a series of numbers where the next number is found by adding up the two numbers before it."
      ],
      "metadata": {
        "id": "fYzbH7TKghu9"
      }
    },
    {
      "cell_type": "code",
      "source": [
        "seq = int(input(\"Sequence???  \"))\n",
        "def fib(seq):\n",
        "  a=0\n",
        "  b=1\n",
        "  for _ in range(seq):\n",
        "    print(a , \"  \")\n",
        "    a,b = b , a+b\n",
        "\n",
        "fib(seq)"
      ],
      "metadata": {
        "id": "WQ3ADSAFgiWE",
        "colab": {
          "base_uri": "https://localhost:8080/"
        },
        "outputId": "32466b66-b236-4472-dc6c-b99ba21eb472"
      },
      "execution_count": 12,
      "outputs": [
        {
          "output_type": "stream",
          "name": "stdout",
          "text": [
            "Sequence???  123\n",
            "0   \n",
            "1   \n",
            "1   \n",
            "2   \n",
            "3   \n",
            "5   \n",
            "8   \n",
            "13   \n",
            "21   \n",
            "34   \n",
            "55   \n",
            "89   \n",
            "144   \n",
            "233   \n",
            "377   \n",
            "610   \n",
            "987   \n",
            "1597   \n",
            "2584   \n",
            "4181   \n",
            "6765   \n",
            "10946   \n",
            "17711   \n",
            "28657   \n",
            "46368   \n",
            "75025   \n",
            "121393   \n",
            "196418   \n",
            "317811   \n",
            "514229   \n",
            "832040   \n",
            "1346269   \n",
            "2178309   \n",
            "3524578   \n",
            "5702887   \n",
            "9227465   \n",
            "14930352   \n",
            "24157817   \n",
            "39088169   \n",
            "63245986   \n",
            "102334155   \n",
            "165580141   \n",
            "267914296   \n",
            "433494437   \n",
            "701408733   \n",
            "1134903170   \n",
            "1836311903   \n",
            "2971215073   \n",
            "4807526976   \n",
            "7778742049   \n",
            "12586269025   \n",
            "20365011074   \n",
            "32951280099   \n",
            "53316291173   \n",
            "86267571272   \n",
            "139583862445   \n",
            "225851433717   \n",
            "365435296162   \n",
            "591286729879   \n",
            "956722026041   \n",
            "1548008755920   \n",
            "2504730781961   \n",
            "4052739537881   \n",
            "6557470319842   \n",
            "10610209857723   \n",
            "17167680177565   \n",
            "27777890035288   \n",
            "44945570212853   \n",
            "72723460248141   \n",
            "117669030460994   \n",
            "190392490709135   \n",
            "308061521170129   \n",
            "498454011879264   \n",
            "806515533049393   \n",
            "1304969544928657   \n",
            "2111485077978050   \n",
            "3416454622906707   \n",
            "5527939700884757   \n",
            "8944394323791464   \n",
            "14472334024676221   \n",
            "23416728348467685   \n",
            "37889062373143906   \n",
            "61305790721611591   \n",
            "99194853094755497   \n",
            "160500643816367088   \n",
            "259695496911122585   \n",
            "420196140727489673   \n",
            "679891637638612258   \n",
            "1100087778366101931   \n",
            "1779979416004714189   \n",
            "2880067194370816120   \n",
            "4660046610375530309   \n",
            "7540113804746346429   \n",
            "12200160415121876738   \n",
            "19740274219868223167   \n",
            "31940434634990099905   \n",
            "51680708854858323072   \n",
            "83621143489848422977   \n",
            "135301852344706746049   \n",
            "218922995834555169026   \n",
            "354224848179261915075   \n",
            "573147844013817084101   \n",
            "927372692193078999176   \n",
            "1500520536206896083277   \n",
            "2427893228399975082453   \n",
            "3928413764606871165730   \n",
            "6356306993006846248183   \n",
            "10284720757613717413913   \n",
            "16641027750620563662096   \n",
            "26925748508234281076009   \n",
            "43566776258854844738105   \n",
            "70492524767089125814114   \n",
            "114059301025943970552219   \n",
            "184551825793033096366333   \n",
            "298611126818977066918552   \n",
            "483162952612010163284885   \n",
            "781774079430987230203437   \n",
            "1264937032042997393488322   \n",
            "2046711111473984623691759   \n",
            "3311648143516982017180081   \n",
            "5358359254990966640871840   \n",
            "8670007398507948658051921   \n",
            "14028366653498915298923761   \n"
          ]
        }
      ]
    }
  ]
}